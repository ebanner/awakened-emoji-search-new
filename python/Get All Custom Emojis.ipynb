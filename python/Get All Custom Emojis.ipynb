{
 "cells": [
  {
   "cell_type": "markdown",
   "id": "fc17fc3b-3082-4534-9ec4-e5329cfd83ff",
   "metadata": {},
   "source": [
    "# 1"
   ]
  },
  {
   "cell_type": "code",
   "execution_count": null,
   "id": "3708d98d-5bb0-4cef-8de8-dd559156350f",
   "metadata": {},
   "outputs": [],
   "source": [
    "! curl 'https://r-awakened.slack.com/api/emoji.adminList?_x_id=1d5d8e4c-1677859209.456&slack_route=T0XNJNF35&_x_version_ts=no-version&fp=cd' \\\n",
    "  -H 'authority: r-awakened.slack.com' \\\n",
    "  -H 'accept: */*' \\\n",
    "  -H 'accept-language: en-US,en;q=0.9' \\\n",
    "  -H 'content-type: multipart/form-data; boundary=----WebKitFormBoundarykm6k9jB5bLPYN7C1' \\\n",
    "  -H 'cookie: shown_ssb_redirect_page=1; ssb_instance_id=5cee24a4-a545-5c69-b5d4-5f3d784d3b20; b=.8b87ef2c336cbff44d76777cecf09d2b; d=xoxd-kZ2mErMdDwT9nta5A4c2t5rpJovJp66esfbOBFNqjhIwU7gPLZwbhoJoH22LZRr9lf25p4jAFD9b5WZE3rFMR2qlFK0jRQ2c6T60jbVD6E3sIcielB9deEEplWWXuAqpWmMtCqWfUxN%2BRm%2FjhprUCA0opNC%2BuTXpuf5K7eNDtlFUAZ11rLRX5CXX; lc=1676581664; shown_download_ssb_modal=1; show_download_ssb_banner=1; no_download_ssb_banner=1; OptanonConsent=isGpcEnabled=0&datestamp=Fri+Feb+17+2023+11%3A47%3A58+GMT-0500+(Eastern+Standard+Time)&version=202211.1.0&isIABGlobal=false&hosts=&consentId=1fb75fb4-4657-437e-9029-185d3c8c6f7f&interactionCount=1&landingPath=NotLandingPage&groups=1%3A1%2C3%3A1%2C2%3A1%2C4%3A1&AwaitingReconsent=false; utm=%7B%22utm_source%22%3A%22in-prod%22%2C%22utm_medium%22%3A%22inprod-customize_link-slack_menu-click%22%7D; d-s=1677859157; x=8b87ef2c336cbff44d76777cecf09d2b.1677859157' \\\n",
    "  -H 'origin: https://r-awakened.slack.com' \\\n",
    "  -H 'sec-ch-ua: \"Chromium\";v=\"110\", \"Not A(Brand\";v=\"24\", \"Google Chrome\";v=\"110\"' \\\n",
    "  -H 'sec-ch-ua-mobile: ?0' \\\n",
    "  -H 'sec-ch-ua-platform: \"macOS\"' \\\n",
    "  -H 'sec-fetch-dest: empty' \\\n",
    "  -H 'sec-fetch-mode: cors' \\\n",
    "  -H 'sec-fetch-site: same-origin' \\\n",
    "  -H 'user-agent: Mozilla/5.0 (Macintosh; Intel Mac OS X 10_15_7) AppleWebKit/537.36 (KHTML, like Gecko) Chrome/110.0.0.0 Safari/537.36' \\\n",
    "  --data-raw $'------WebKitFormBoundarykm6k9jB5bLPYN7C1\\r\\nContent-Disposition: form-data; name=\"token\"\\r\\n\\r\\nxoxc-31766763107-2246011175207-4713617626578-85f52618c120496eb9c39e9e0962f0762d10d6fc8911ed62e41d6cf8391bacbf\\r\\n------WebKitFormBoundarykm6k9jB5bLPYN7C1\\r\\nContent-Disposition: form-data; name=\"page\"\\r\\n\\r\\n1\\r\\n------WebKitFormBoundarykm6k9jB5bLPYN7C1\\r\\nContent-Disposition: form-data; name=\"count\"\\r\\n\\r\\n100\\r\\n------WebKitFormBoundarykm6k9jB5bLPYN7C1\\r\\nContent-Disposition: form-data; name=\"_x_reason\"\\r\\n\\r\\ncustomize-emoji-new-query\\r\\n------WebKitFormBoundarykm6k9jB5bLPYN7C1\\r\\nContent-Disposition: form-data; name=\"_x_mode\"\\r\\n\\r\\nonline\\r\\n------WebKitFormBoundarykm6k9jB5bLPYN7C1--\\r\\n' \\\n",
    "  --compressed \\\n",
    "  --output data/custom-emojis-1.json"
   ]
  },
  {
   "cell_type": "markdown",
   "id": "cf3e42fe-d6eb-46be-879d-ddcc4c3dbb9c",
   "metadata": {},
   "source": [
    "# 2"
   ]
  },
  {
   "cell_type": "code",
   "execution_count": null,
   "id": "5394613d-906a-47fd-9aee-54f58137fbdd",
   "metadata": {},
   "outputs": [],
   "source": [
    "! curl 'https://r-awakened.slack.com/api/emoji.adminList?_x_id=1d5d8e4c-1677859439.273&slack_route=T0XNJNF35&_x_version_ts=no-version&fp=cd' \\\n",
    "  -H 'authority: r-awakened.slack.com' \\\n",
    "  -H 'accept: */*' \\\n",
    "  -H 'accept-language: en-US,en;q=0.9' \\\n",
    "  -H 'content-type: multipart/form-data; boundary=----WebKitFormBoundaryxF6sCmqEI1gzue3B' \\\n",
    "  -H 'cookie: shown_ssb_redirect_page=1; ssb_instance_id=5cee24a4-a545-5c69-b5d4-5f3d784d3b20; b=.8b87ef2c336cbff44d76777cecf09d2b; d=xoxd-kZ2mErMdDwT9nta5A4c2t5rpJovJp66esfbOBFNqjhIwU7gPLZwbhoJoH22LZRr9lf25p4jAFD9b5WZE3rFMR2qlFK0jRQ2c6T60jbVD6E3sIcielB9deEEplWWXuAqpWmMtCqWfUxN%2BRm%2FjhprUCA0opNC%2BuTXpuf5K7eNDtlFUAZ11rLRX5CXX; lc=1676581664; shown_download_ssb_modal=1; show_download_ssb_banner=1; no_download_ssb_banner=1; OptanonConsent=isGpcEnabled=0&datestamp=Fri+Feb+17+2023+11%3A47%3A58+GMT-0500+(Eastern+Standard+Time)&version=202211.1.0&isIABGlobal=false&hosts=&consentId=1fb75fb4-4657-437e-9029-185d3c8c6f7f&interactionCount=1&landingPath=NotLandingPage&groups=1%3A1%2C3%3A1%2C2%3A1%2C4%3A1&AwaitingReconsent=false; utm=%7B%22utm_source%22%3A%22in-prod%22%2C%22utm_medium%22%3A%22inprod-customize_link-slack_menu-click%22%7D; d-s=1677859157; x=8b87ef2c336cbff44d76777cecf09d2b.1677859157' \\\n",
    "  -H 'origin: https://r-awakened.slack.com' \\\n",
    "  -H 'sec-ch-ua: \"Chromium\";v=\"110\", \"Not A(Brand\";v=\"24\", \"Google Chrome\";v=\"110\"' \\\n",
    "  -H 'sec-ch-ua-mobile: ?0' \\\n",
    "  -H 'sec-ch-ua-platform: \"macOS\"' \\\n",
    "  -H 'sec-fetch-dest: empty' \\\n",
    "  -H 'sec-fetch-mode: cors' \\\n",
    "  -H 'sec-fetch-site: same-origin' \\\n",
    "  -H 'user-agent: Mozilla/5.0 (Macintosh; Intel Mac OS X 10_15_7) AppleWebKit/537.36 (KHTML, like Gecko) Chrome/110.0.0.0 Safari/537.36' \\\n",
    "  --data-raw $'------WebKitFormBoundaryxF6sCmqEI1gzue3B\\r\\nContent-Disposition: form-data; name=\"token\"\\r\\n\\r\\nxoxc-31766763107-2246011175207-4713617626578-85f52618c120496eb9c39e9e0962f0762d10d6fc8911ed62e41d6cf8391bacbf\\r\\n------WebKitFormBoundaryxF6sCmqEI1gzue3B\\r\\nContent-Disposition: form-data; name=\"page\"\\r\\n\\r\\n2\\r\\n------WebKitFormBoundaryxF6sCmqEI1gzue3B\\r\\nContent-Disposition: form-data; name=\"count\"\\r\\n\\r\\n100\\r\\n------WebKitFormBoundaryxF6sCmqEI1gzue3B\\r\\nContent-Disposition: form-data; name=\"sort_by\"\\r\\n\\r\\nname\\r\\n------WebKitFormBoundaryxF6sCmqEI1gzue3B\\r\\nContent-Disposition: form-data; name=\"sort_dir\"\\r\\n\\r\\nasc\\r\\n------WebKitFormBoundaryxF6sCmqEI1gzue3B\\r\\nContent-Disposition: form-data; name=\"_x_reason\"\\r\\n\\r\\ncustomize-emoji-next-page\\r\\n------WebKitFormBoundaryxF6sCmqEI1gzue3B\\r\\nContent-Disposition: form-data; name=\"_x_mode\"\\r\\n\\r\\nonline\\r\\n------WebKitFormBoundaryxF6sCmqEI1gzue3B--\\r\\n' \\\n",
    "  --compressed \\\n",
    "  --output data/custom-emojis-2.json"
   ]
  },
  {
   "cell_type": "markdown",
   "id": "91ca3946-911f-45c0-9017-8339a2b89836",
   "metadata": {},
   "source": [
    "# 3"
   ]
  },
  {
   "cell_type": "code",
   "execution_count": null,
   "id": "03c51b2a-2716-4151-944a-dc6881998f0a",
   "metadata": {},
   "outputs": [],
   "source": [
    "! curl 'https://r-awakened.slack.com/api/emoji.adminList?_x_id=1d5d8e4c-1677859443.578&slack_route=T0XNJNF35&_x_version_ts=no-version&fp=cd' \\\n",
    "  -H 'authority: r-awakened.slack.com' \\\n",
    "  -H 'accept: */*' \\\n",
    "  -H 'accept-language: en-US,en;q=0.9' \\\n",
    "  -H 'content-type: multipart/form-data; boundary=----WebKitFormBoundaryUSPHAou5p2QPhARD' \\\n",
    "  -H 'cookie: shown_ssb_redirect_page=1; ssb_instance_id=5cee24a4-a545-5c69-b5d4-5f3d784d3b20; b=.8b87ef2c336cbff44d76777cecf09d2b; d=xoxd-kZ2mErMdDwT9nta5A4c2t5rpJovJp66esfbOBFNqjhIwU7gPLZwbhoJoH22LZRr9lf25p4jAFD9b5WZE3rFMR2qlFK0jRQ2c6T60jbVD6E3sIcielB9deEEplWWXuAqpWmMtCqWfUxN%2BRm%2FjhprUCA0opNC%2BuTXpuf5K7eNDtlFUAZ11rLRX5CXX; lc=1676581664; shown_download_ssb_modal=1; show_download_ssb_banner=1; no_download_ssb_banner=1; OptanonConsent=isGpcEnabled=0&datestamp=Fri+Feb+17+2023+11%3A47%3A58+GMT-0500+(Eastern+Standard+Time)&version=202211.1.0&isIABGlobal=false&hosts=&consentId=1fb75fb4-4657-437e-9029-185d3c8c6f7f&interactionCount=1&landingPath=NotLandingPage&groups=1%3A1%2C3%3A1%2C2%3A1%2C4%3A1&AwaitingReconsent=false; utm=%7B%22utm_source%22%3A%22in-prod%22%2C%22utm_medium%22%3A%22inprod-customize_link-slack_menu-click%22%7D; d-s=1677859157; x=8b87ef2c336cbff44d76777cecf09d2b.1677859157' \\\n",
    "  -H 'origin: https://r-awakened.slack.com' \\\n",
    "  -H 'sec-ch-ua: \"Chromium\";v=\"110\", \"Not A(Brand\";v=\"24\", \"Google Chrome\";v=\"110\"' \\\n",
    "  -H 'sec-ch-ua-mobile: ?0' \\\n",
    "  -H 'sec-ch-ua-platform: \"macOS\"' \\\n",
    "  -H 'sec-fetch-dest: empty' \\\n",
    "  -H 'sec-fetch-mode: cors' \\\n",
    "  -H 'sec-fetch-site: same-origin' \\\n",
    "  -H 'user-agent: Mozilla/5.0 (Macintosh; Intel Mac OS X 10_15_7) AppleWebKit/537.36 (KHTML, like Gecko) Chrome/110.0.0.0 Safari/537.36' \\\n",
    "  --data-raw $'------WebKitFormBoundaryUSPHAou5p2QPhARD\\r\\nContent-Disposition: form-data; name=\"token\"\\r\\n\\r\\nxoxc-31766763107-2246011175207-4713617626578-85f52618c120496eb9c39e9e0962f0762d10d6fc8911ed62e41d6cf8391bacbf\\r\\n------WebKitFormBoundaryUSPHAou5p2QPhARD\\r\\nContent-Disposition: form-data; name=\"page\"\\r\\n\\r\\n3\\r\\n------WebKitFormBoundaryUSPHAou5p2QPhARD\\r\\nContent-Disposition: form-data; name=\"count\"\\r\\n\\r\\n100\\r\\n------WebKitFormBoundaryUSPHAou5p2QPhARD\\r\\nContent-Disposition: form-data; name=\"sort_by\"\\r\\n\\r\\nname\\r\\n------WebKitFormBoundaryUSPHAou5p2QPhARD\\r\\nContent-Disposition: form-data; name=\"sort_dir\"\\r\\n\\r\\nasc\\r\\n------WebKitFormBoundaryUSPHAou5p2QPhARD\\r\\nContent-Disposition: form-data; name=\"_x_reason\"\\r\\n\\r\\ncustomize-emoji-next-page\\r\\n------WebKitFormBoundaryUSPHAou5p2QPhARD\\r\\nContent-Disposition: form-data; name=\"_x_mode\"\\r\\n\\r\\nonline\\r\\n------WebKitFormBoundaryUSPHAou5p2QPhARD--\\r\\n' \\\n",
    "  --compressed \\\n",
    "  --output data/custom-emojis-3.json"
   ]
  },
  {
   "cell_type": "markdown",
   "id": "20cdcd22-6aa2-45fc-8d12-557d7a7cb4da",
   "metadata": {},
   "source": [
    "# 4"
   ]
  },
  {
   "cell_type": "code",
   "execution_count": null,
   "id": "4b7e23e4-b5e9-428c-9f38-735e0b882c73",
   "metadata": {},
   "outputs": [],
   "source": [
    "! curl 'https://r-awakened.slack.com/api/emoji.adminList?_x_id=1d5d8e4c-1677859448.162&slack_route=T0XNJNF35&_x_version_ts=no-version&fp=cd' \\\n",
    "  -H 'authority: r-awakened.slack.com' \\\n",
    "  -H 'accept: */*' \\\n",
    "  -H 'accept-language: en-US,en;q=0.9' \\\n",
    "  -H 'content-type: multipart/form-data; boundary=----WebKitFormBoundaryhAjpH5oBcBARNXC8' \\\n",
    "  -H 'cookie: shown_ssb_redirect_page=1; ssb_instance_id=5cee24a4-a545-5c69-b5d4-5f3d784d3b20; b=.8b87ef2c336cbff44d76777cecf09d2b; d=xoxd-kZ2mErMdDwT9nta5A4c2t5rpJovJp66esfbOBFNqjhIwU7gPLZwbhoJoH22LZRr9lf25p4jAFD9b5WZE3rFMR2qlFK0jRQ2c6T60jbVD6E3sIcielB9deEEplWWXuAqpWmMtCqWfUxN%2BRm%2FjhprUCA0opNC%2BuTXpuf5K7eNDtlFUAZ11rLRX5CXX; lc=1676581664; shown_download_ssb_modal=1; show_download_ssb_banner=1; no_download_ssb_banner=1; OptanonConsent=isGpcEnabled=0&datestamp=Fri+Feb+17+2023+11%3A47%3A58+GMT-0500+(Eastern+Standard+Time)&version=202211.1.0&isIABGlobal=false&hosts=&consentId=1fb75fb4-4657-437e-9029-185d3c8c6f7f&interactionCount=1&landingPath=NotLandingPage&groups=1%3A1%2C3%3A1%2C2%3A1%2C4%3A1&AwaitingReconsent=false; utm=%7B%22utm_source%22%3A%22in-prod%22%2C%22utm_medium%22%3A%22inprod-customize_link-slack_menu-click%22%7D; d-s=1677859157; x=8b87ef2c336cbff44d76777cecf09d2b.1677859157' \\\n",
    "  -H 'origin: https://r-awakened.slack.com' \\\n",
    "  -H 'sec-ch-ua: \"Chromium\";v=\"110\", \"Not A(Brand\";v=\"24\", \"Google Chrome\";v=\"110\"' \\\n",
    "  -H 'sec-ch-ua-mobile: ?0' \\\n",
    "  -H 'sec-ch-ua-platform: \"macOS\"' \\\n",
    "  -H 'sec-fetch-dest: empty' \\\n",
    "  -H 'sec-fetch-mode: cors' \\\n",
    "  -H 'sec-fetch-site: same-origin' \\\n",
    "  -H 'user-agent: Mozilla/5.0 (Macintosh; Intel Mac OS X 10_15_7) AppleWebKit/537.36 (KHTML, like Gecko) Chrome/110.0.0.0 Safari/537.36' \\\n",
    "  --data-raw $'------WebKitFormBoundaryhAjpH5oBcBARNXC8\\r\\nContent-Disposition: form-data; name=\"token\"\\r\\n\\r\\nxoxc-31766763107-2246011175207-4713617626578-85f52618c120496eb9c39e9e0962f0762d10d6fc8911ed62e41d6cf8391bacbf\\r\\n------WebKitFormBoundaryhAjpH5oBcBARNXC8\\r\\nContent-Disposition: form-data; name=\"page\"\\r\\n\\r\\n4\\r\\n------WebKitFormBoundaryhAjpH5oBcBARNXC8\\r\\nContent-Disposition: form-data; name=\"count\"\\r\\n\\r\\n100\\r\\n------WebKitFormBoundaryhAjpH5oBcBARNXC8\\r\\nContent-Disposition: form-data; name=\"sort_by\"\\r\\n\\r\\nname\\r\\n------WebKitFormBoundaryhAjpH5oBcBARNXC8\\r\\nContent-Disposition: form-data; name=\"sort_dir\"\\r\\n\\r\\nasc\\r\\n------WebKitFormBoundaryhAjpH5oBcBARNXC8\\r\\nContent-Disposition: form-data; name=\"_x_reason\"\\r\\n\\r\\ncustomize-emoji-next-page\\r\\n------WebKitFormBoundaryhAjpH5oBcBARNXC8\\r\\nContent-Disposition: form-data; name=\"_x_mode\"\\r\\n\\r\\nonline\\r\\n------WebKitFormBoundaryhAjpH5oBcBARNXC8--\\r\\n' \\\n",
    "  --compressed \\\n",
    "  --output data/custom-emojis-4.json"
   ]
  },
  {
   "cell_type": "markdown",
   "id": "4484cd43-fedc-4314-ac8b-e5352e3f2975",
   "metadata": {},
   "source": [
    "# 5"
   ]
  },
  {
   "cell_type": "code",
   "execution_count": null,
   "id": "5be787f8-d156-4aa4-9878-9e253368563a",
   "metadata": {},
   "outputs": [],
   "source": [
    "! curl 'https://r-awakened.slack.com/api/emoji.adminList?_x_id=1d5d8e4c-1677859452.281&slack_route=T0XNJNF35&_x_version_ts=no-version&fp=cd' \\\n",
    "  -H 'authority: r-awakened.slack.com' \\\n",
    "  -H 'accept: */*' \\\n",
    "  -H 'accept-language: en-US,en;q=0.9' \\\n",
    "  -H 'content-type: multipart/form-data; boundary=----WebKitFormBoundary4SnZD79RQ0Ws4vcP' \\\n",
    "  -H 'cookie: shown_ssb_redirect_page=1; ssb_instance_id=5cee24a4-a545-5c69-b5d4-5f3d784d3b20; b=.8b87ef2c336cbff44d76777cecf09d2b; d=xoxd-kZ2mErMdDwT9nta5A4c2t5rpJovJp66esfbOBFNqjhIwU7gPLZwbhoJoH22LZRr9lf25p4jAFD9b5WZE3rFMR2qlFK0jRQ2c6T60jbVD6E3sIcielB9deEEplWWXuAqpWmMtCqWfUxN%2BRm%2FjhprUCA0opNC%2BuTXpuf5K7eNDtlFUAZ11rLRX5CXX; lc=1676581664; shown_download_ssb_modal=1; show_download_ssb_banner=1; no_download_ssb_banner=1; OptanonConsent=isGpcEnabled=0&datestamp=Fri+Feb+17+2023+11%3A47%3A58+GMT-0500+(Eastern+Standard+Time)&version=202211.1.0&isIABGlobal=false&hosts=&consentId=1fb75fb4-4657-437e-9029-185d3c8c6f7f&interactionCount=1&landingPath=NotLandingPage&groups=1%3A1%2C3%3A1%2C2%3A1%2C4%3A1&AwaitingReconsent=false; utm=%7B%22utm_source%22%3A%22in-prod%22%2C%22utm_medium%22%3A%22inprod-customize_link-slack_menu-click%22%7D; d-s=1677859157; x=8b87ef2c336cbff44d76777cecf09d2b.1677859157' \\\n",
    "  -H 'origin: https://r-awakened.slack.com' \\\n",
    "  -H 'sec-ch-ua: \"Chromium\";v=\"110\", \"Not A(Brand\";v=\"24\", \"Google Chrome\";v=\"110\"' \\\n",
    "  -H 'sec-ch-ua-mobile: ?0' \\\n",
    "  -H 'sec-ch-ua-platform: \"macOS\"' \\\n",
    "  -H 'sec-fetch-dest: empty' \\\n",
    "  -H 'sec-fetch-mode: cors' \\\n",
    "  -H 'sec-fetch-site: same-origin' \\\n",
    "  -H 'user-agent: Mozilla/5.0 (Macintosh; Intel Mac OS X 10_15_7) AppleWebKit/537.36 (KHTML, like Gecko) Chrome/110.0.0.0 Safari/537.36' \\\n",
    "  --data-raw $'------WebKitFormBoundary4SnZD79RQ0Ws4vcP\\r\\nContent-Disposition: form-data; name=\"token\"\\r\\n\\r\\nxoxc-31766763107-2246011175207-4713617626578-85f52618c120496eb9c39e9e0962f0762d10d6fc8911ed62e41d6cf8391bacbf\\r\\n------WebKitFormBoundary4SnZD79RQ0Ws4vcP\\r\\nContent-Disposition: form-data; name=\"page\"\\r\\n\\r\\n5\\r\\n------WebKitFormBoundary4SnZD79RQ0Ws4vcP\\r\\nContent-Disposition: form-data; name=\"count\"\\r\\n\\r\\n100\\r\\n------WebKitFormBoundary4SnZD79RQ0Ws4vcP\\r\\nContent-Disposition: form-data; name=\"sort_by\"\\r\\n\\r\\nname\\r\\n------WebKitFormBoundary4SnZD79RQ0Ws4vcP\\r\\nContent-Disposition: form-data; name=\"sort_dir\"\\r\\n\\r\\nasc\\r\\n------WebKitFormBoundary4SnZD79RQ0Ws4vcP\\r\\nContent-Disposition: form-data; name=\"_x_reason\"\\r\\n\\r\\ncustomize-emoji-next-page\\r\\n------WebKitFormBoundary4SnZD79RQ0Ws4vcP\\r\\nContent-Disposition: form-data; name=\"_x_mode\"\\r\\n\\r\\nonline\\r\\n------WebKitFormBoundary4SnZD79RQ0Ws4vcP--\\r\\n' \\\n",
    "  --compressed \\\n",
    "  --output data/custom-emojis-5.json"
   ]
  },
  {
   "cell_type": "markdown",
   "id": "e1b01c69-839d-4d54-86a1-62f16dc14c4d",
   "metadata": {},
   "source": [
    "# 6"
   ]
  },
  {
   "cell_type": "code",
   "execution_count": null,
   "id": "6a88ce43-fa64-484a-966c-24b11adecdea",
   "metadata": {},
   "outputs": [],
   "source": [
    "! curl 'https://r-awakened.slack.com/api/emoji.adminList?_x_id=1d5d8e4c-1677859456.602&slack_route=T0XNJNF35&_x_version_ts=no-version&fp=cd' \\\n",
    "  -H 'authority: r-awakened.slack.com' \\\n",
    "  -H 'accept: */*' \\\n",
    "  -H 'accept-language: en-US,en;q=0.9' \\\n",
    "  -H 'content-type: multipart/form-data; boundary=----WebKitFormBoundaryHB92rfCHL7eToYhU' \\\n",
    "  -H 'cookie: shown_ssb_redirect_page=1; ssb_instance_id=5cee24a4-a545-5c69-b5d4-5f3d784d3b20; b=.8b87ef2c336cbff44d76777cecf09d2b; d=xoxd-kZ2mErMdDwT9nta5A4c2t5rpJovJp66esfbOBFNqjhIwU7gPLZwbhoJoH22LZRr9lf25p4jAFD9b5WZE3rFMR2qlFK0jRQ2c6T60jbVD6E3sIcielB9deEEplWWXuAqpWmMtCqWfUxN%2BRm%2FjhprUCA0opNC%2BuTXpuf5K7eNDtlFUAZ11rLRX5CXX; lc=1676581664; shown_download_ssb_modal=1; show_download_ssb_banner=1; no_download_ssb_banner=1; OptanonConsent=isGpcEnabled=0&datestamp=Fri+Feb+17+2023+11%3A47%3A58+GMT-0500+(Eastern+Standard+Time)&version=202211.1.0&isIABGlobal=false&hosts=&consentId=1fb75fb4-4657-437e-9029-185d3c8c6f7f&interactionCount=1&landingPath=NotLandingPage&groups=1%3A1%2C3%3A1%2C2%3A1%2C4%3A1&AwaitingReconsent=false; utm=%7B%22utm_source%22%3A%22in-prod%22%2C%22utm_medium%22%3A%22inprod-customize_link-slack_menu-click%22%7D; d-s=1677859157; x=8b87ef2c336cbff44d76777cecf09d2b.1677859157' \\\n",
    "  -H 'origin: https://r-awakened.slack.com' \\\n",
    "  -H 'sec-ch-ua: \"Chromium\";v=\"110\", \"Not A(Brand\";v=\"24\", \"Google Chrome\";v=\"110\"' \\\n",
    "  -H 'sec-ch-ua-mobile: ?0' \\\n",
    "  -H 'sec-ch-ua-platform: \"macOS\"' \\\n",
    "  -H 'sec-fetch-dest: empty' \\\n",
    "  -H 'sec-fetch-mode: cors' \\\n",
    "  -H 'sec-fetch-site: same-origin' \\\n",
    "  -H 'user-agent: Mozilla/5.0 (Macintosh; Intel Mac OS X 10_15_7) AppleWebKit/537.36 (KHTML, like Gecko) Chrome/110.0.0.0 Safari/537.36' \\\n",
    "  --data-raw $'------WebKitFormBoundaryHB92rfCHL7eToYhU\\r\\nContent-Disposition: form-data; name=\"token\"\\r\\n\\r\\nxoxc-31766763107-2246011175207-4713617626578-85f52618c120496eb9c39e9e0962f0762d10d6fc8911ed62e41d6cf8391bacbf\\r\\n------WebKitFormBoundaryHB92rfCHL7eToYhU\\r\\nContent-Disposition: form-data; name=\"page\"\\r\\n\\r\\n6\\r\\n------WebKitFormBoundaryHB92rfCHL7eToYhU\\r\\nContent-Disposition: form-data; name=\"count\"\\r\\n\\r\\n100\\r\\n------WebKitFormBoundaryHB92rfCHL7eToYhU\\r\\nContent-Disposition: form-data; name=\"sort_by\"\\r\\n\\r\\nname\\r\\n------WebKitFormBoundaryHB92rfCHL7eToYhU\\r\\nContent-Disposition: form-data; name=\"sort_dir\"\\r\\n\\r\\nasc\\r\\n------WebKitFormBoundaryHB92rfCHL7eToYhU\\r\\nContent-Disposition: form-data; name=\"_x_reason\"\\r\\n\\r\\ncustomize-emoji-next-page\\r\\n------WebKitFormBoundaryHB92rfCHL7eToYhU\\r\\nContent-Disposition: form-data; name=\"_x_mode\"\\r\\n\\r\\nonline\\r\\n------WebKitFormBoundaryHB92rfCHL7eToYhU--\\r\\n' \\\n",
    "  --compressed \\\n",
    "  --output data/custom-emojis-6.json"
   ]
  },
  {
   "cell_type": "markdown",
   "id": "4be087a0-6e7d-42af-87d2-8599619c9e7a",
   "metadata": {},
   "source": [
    "# 7"
   ]
  },
  {
   "cell_type": "code",
   "execution_count": null,
   "id": "cc1d89d0-a851-4df8-a453-68562df26cec",
   "metadata": {},
   "outputs": [],
   "source": [
    "! curl 'https://r-awakened.slack.com/api/emoji.adminList?_x_id=1d5d8e4c-1677859460.755&slack_route=T0XNJNF35&_x_version_ts=no-version&fp=cd' \\\n",
    "  -H 'authority: r-awakened.slack.com' \\\n",
    "  -H 'accept: */*' \\\n",
    "  -H 'accept-language: en-US,en;q=0.9' \\\n",
    "  -H 'content-type: multipart/form-data; boundary=----WebKitFormBoundarygDuG41nDEyNjBC8z' \\\n",
    "  -H 'cookie: shown_ssb_redirect_page=1; ssb_instance_id=5cee24a4-a545-5c69-b5d4-5f3d784d3b20; b=.8b87ef2c336cbff44d76777cecf09d2b; d=xoxd-kZ2mErMdDwT9nta5A4c2t5rpJovJp66esfbOBFNqjhIwU7gPLZwbhoJoH22LZRr9lf25p4jAFD9b5WZE3rFMR2qlFK0jRQ2c6T60jbVD6E3sIcielB9deEEplWWXuAqpWmMtCqWfUxN%2BRm%2FjhprUCA0opNC%2BuTXpuf5K7eNDtlFUAZ11rLRX5CXX; lc=1676581664; shown_download_ssb_modal=1; show_download_ssb_banner=1; no_download_ssb_banner=1; OptanonConsent=isGpcEnabled=0&datestamp=Fri+Feb+17+2023+11%3A47%3A58+GMT-0500+(Eastern+Standard+Time)&version=202211.1.0&isIABGlobal=false&hosts=&consentId=1fb75fb4-4657-437e-9029-185d3c8c6f7f&interactionCount=1&landingPath=NotLandingPage&groups=1%3A1%2C3%3A1%2C2%3A1%2C4%3A1&AwaitingReconsent=false; utm=%7B%22utm_source%22%3A%22in-prod%22%2C%22utm_medium%22%3A%22inprod-customize_link-slack_menu-click%22%7D; d-s=1677859157; x=8b87ef2c336cbff44d76777cecf09d2b.1677859157' \\\n",
    "  -H 'origin: https://r-awakened.slack.com' \\\n",
    "  -H 'sec-ch-ua: \"Chromium\";v=\"110\", \"Not A(Brand\";v=\"24\", \"Google Chrome\";v=\"110\"' \\\n",
    "  -H 'sec-ch-ua-mobile: ?0' \\\n",
    "  -H 'sec-ch-ua-platform: \"macOS\"' \\\n",
    "  -H 'sec-fetch-dest: empty' \\\n",
    "  -H 'sec-fetch-mode: cors' \\\n",
    "  -H 'sec-fetch-site: same-origin' \\\n",
    "  -H 'user-agent: Mozilla/5.0 (Macintosh; Intel Mac OS X 10_15_7) AppleWebKit/537.36 (KHTML, like Gecko) Chrome/110.0.0.0 Safari/537.36' \\\n",
    "  --data-raw $'------WebKitFormBoundarygDuG41nDEyNjBC8z\\r\\nContent-Disposition: form-data; name=\"token\"\\r\\n\\r\\nxoxc-31766763107-2246011175207-4713617626578-85f52618c120496eb9c39e9e0962f0762d10d6fc8911ed62e41d6cf8391bacbf\\r\\n------WebKitFormBoundarygDuG41nDEyNjBC8z\\r\\nContent-Disposition: form-data; name=\"page\"\\r\\n\\r\\n7\\r\\n------WebKitFormBoundarygDuG41nDEyNjBC8z\\r\\nContent-Disposition: form-data; name=\"count\"\\r\\n\\r\\n100\\r\\n------WebKitFormBoundarygDuG41nDEyNjBC8z\\r\\nContent-Disposition: form-data; name=\"sort_by\"\\r\\n\\r\\nname\\r\\n------WebKitFormBoundarygDuG41nDEyNjBC8z\\r\\nContent-Disposition: form-data; name=\"sort_dir\"\\r\\n\\r\\nasc\\r\\n------WebKitFormBoundarygDuG41nDEyNjBC8z\\r\\nContent-Disposition: form-data; name=\"_x_reason\"\\r\\n\\r\\ncustomize-emoji-next-page\\r\\n------WebKitFormBoundarygDuG41nDEyNjBC8z\\r\\nContent-Disposition: form-data; name=\"_x_mode\"\\r\\n\\r\\nonline\\r\\n------WebKitFormBoundarygDuG41nDEyNjBC8z--\\r\\n' \\\n",
    "  --compressed \\\n",
    "  --output data/custom-emojis-7.json"
   ]
  },
  {
   "cell_type": "markdown",
   "id": "2f9cca41-9205-4e4e-9dd8-5bb6a2e6d28f",
   "metadata": {},
   "source": [
    "# jq"
   ]
  },
  {
   "cell_type": "code",
   "execution_count": null,
   "id": "7dcc1235-5915-4836-abe8-963b24412b4e",
   "metadata": {},
   "outputs": [],
   "source": [
    "for i in range(1, 7+1):\n",
    "    !echo $i"
   ]
  },
  {
   "cell_type": "code",
   "execution_count": null,
   "id": "c2dc0ebb-c259-4ffe-acbf-a347c1889a9e",
   "metadata": {},
   "outputs": [],
   "source": [
    "for i in range(1, 7+1):\n",
    "    fname = f'data/custom-emojis-{i}.json'\n",
    "    jq_cmd = \"jq '[.emoji[] | {name, url}]'\"\n",
    "    out_fname = f'data/clean-custom-emojis-{i}.json'\n",
    "    !$jq_cmd $fname > $out_fname"
   ]
  },
  {
   "cell_type": "markdown",
   "id": "c04af8e3-f724-4706-a2fb-cdb5730db9f2",
   "metadata": {},
   "source": [
    "# Combine together"
   ]
  },
  {
   "cell_type": "code",
   "execution_count": null,
   "id": "86724f1f-f961-40da-ab3c-56cec5c070d5",
   "metadata": {
    "tags": []
   },
   "outputs": [],
   "source": [
    "import json\n",
    "\n",
    "resulting_list = []\n",
    "for i in range(1, 7+1):\n",
    "    emojis = json.load(open(f'data/clean-custom-emojis-{i}.json'))\n",
    "    resulting_list.extend(emojis)\n",
    "    \n",
    "resulting_list"
   ]
  },
  {
   "cell_type": "code",
   "execution_count": null,
   "id": "e728148e-615c-4aca-921d-2012a7578db6",
   "metadata": {},
   "outputs": [],
   "source": [
    "import pandas as pd\n",
    "\n",
    "df = pd.DataFrame(resulting_list)\n",
    "df.columns = ['emoji_name', 'emoji_url']\n",
    "\n",
    "df"
   ]
  },
  {
   "cell_type": "code",
   "execution_count": null,
   "id": "369e4639-3c64-48db-b1e1-c46986471877",
   "metadata": {},
   "outputs": [],
   "source": [
    "df.to_csv('data/emojis-and-url.csv', index=False)"
   ]
  },
  {
   "cell_type": "code",
   "execution_count": null,
   "id": "58635458-94a2-4450-b088-6e5360e339a6",
   "metadata": {},
   "outputs": [],
   "source": [
    "!head data/emojis-and-url.csv"
   ]
  }
 ],
 "metadata": {
  "kernelspec": {
   "display_name": "python3.11",
   "language": "python",
   "name": "python3.11"
  },
  "language_info": {
   "codemirror_mode": {
    "name": "ipython",
    "version": 3
   },
   "file_extension": ".py",
   "mimetype": "text/x-python",
   "name": "python",
   "nbconvert_exporter": "python",
   "pygments_lexer": "ipython3",
   "version": "3.11.2"
  }
 },
 "nbformat": 4,
 "nbformat_minor": 5
}

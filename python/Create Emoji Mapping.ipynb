{
 "cells": [
  {
   "cell_type": "code",
   "execution_count": null,
   "metadata": {},
   "outputs": [],
   "source": [
    "# Read in slack-emoji-mappings.json\n",
    "\n",
    "import json\n",
    "\n",
    "with open('slack-emoji-mappings.json') as f:\n",
    "    emoji_mappings = json.load(f)\n",
    "\n",
    "emoji_mappings"
   ]
  },
  {
   "cell_type": "code",
   "execution_count": null,
   "metadata": {},
   "outputs": [],
   "source": [
    "def get_emoji_from_code_point(hex_code_point: str):\n",
    "    # Convert the hex Unicode code point to an integer.\n",
    "    int_unicode = int(hex_code_point, 16)\n",
    "\n",
    "    # Convert the integer to the corresponding character.\n",
    "    char = chr(int_unicode)\n",
    "\n",
    "    return char\n",
    "\n",
    "def get_emoji_from_code_points(hex_code_points: str):\n",
    "    emoji = ''.join(get_emoji_from_code_point(code_point) for code_point in hex_code_points.split('-'))\n",
    "    return emoji\n",
    "\n",
    "get_emoji_from_code_points('1F18E')"
   ]
  },
  {
   "cell_type": "code",
   "execution_count": null,
   "metadata": {},
   "outputs": [],
   "source": [
    "# Create a dictionary mapping the emoji name to the emoji\n",
    "\n",
    "short_name_to_emoji = {}\n",
    "for emoji in emoji_mappings:\n",
    "    code_points = emoji['unified']\n",
    "    for short_name in emoji['short_names']:\n",
    "        short_name_to_emoji[short_name] = get_emoji_from_code_points(code_points)\n",
    "\n",
    "skin_tone_to_unified = {emoji['short_name']: emoji['unified'] for emoji in emoji_mappings if 'skin-tone' in emoji['short_name']}\n",
    "for emoji in emoji_mappings:\n",
    "    code_points = emoji['unified']\n",
    "    for short_name in emoji['short_names']:\n",
    "        for skin_tone, skin_tone_unified in skin_tone_to_unified.items():\n",
    "            short_name_to_emoji[f'{short_name}::{skin_tone}'] = get_emoji_from_code_points(f'{code_points}-{skin_tone_unified}')\n",
    "\n",
    "short_name_to_emoji"
   ]
  },
  {
   "cell_type": "code",
   "execution_count": null,
   "metadata": {},
   "outputs": [],
   "source": [
    "# Get all items from short_name_to_emoji where 'smile' is in the key\n",
    "\n",
    "{k: v for k, v in short_name_to_emoji.items() if 'smile' in k}"
   ]
  },
  {
   "cell_type": "code",
   "execution_count": null,
   "metadata": {},
   "outputs": [],
   "source": [
    "# Dump the dictionary to a JSON file in the data directory\n",
    "\n",
    "with open('data/short_name_to_emoji.json', 'w') as f:\n",
    "    json.dump(short_name_to_emoji, f, indent=2)\n",
    "\n",
    "!head data/short_name_to_emoji.json"
   ]
  }
 ],
 "metadata": {
  "kernelspec": {
   "display_name": "Python 3",
   "language": "python",
   "name": "python3"
  },
  "language_info": {
   "codemirror_mode": {
    "name": "ipython",
    "version": 3
   },
   "file_extension": ".py",
   "mimetype": "text/x-python",
   "name": "python",
   "nbconvert_exporter": "python",
   "pygments_lexer": "ipython3",
   "version": "3.11.3"
  },
  "orig_nbformat": 4
 },
 "nbformat": 4,
 "nbformat_minor": 2
}

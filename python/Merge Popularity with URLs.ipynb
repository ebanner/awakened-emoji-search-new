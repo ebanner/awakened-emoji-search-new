{
 "cells": [
  {
   "cell_type": "code",
   "execution_count": null,
   "id": "0fbc99d5-efa2-4914-bab8-77dbb4c3d6aa",
   "metadata": {},
   "outputs": [],
   "source": [
    "import pandas as pd\n",
    "\n",
    "pop_df = pd.read_csv('data/emoji-names-and-count.csv')\n",
    "\n",
    "def strip_colon(x):\n",
    "    return x.strip(':')\n",
    "pop_df.emoji_name = pop_df.emoji_name.apply(strip_colon)\n",
    "\n",
    "pop_df"
   ]
  },
  {
   "cell_type": "code",
   "execution_count": null,
   "id": "09c98e48-8753-46ef-8e41-1d646b56abac",
   "metadata": {},
   "outputs": [],
   "source": [
    "url_df = pd.read_csv('data/emojis-and-url.csv')\n",
    "url_df"
   ]
  },
  {
   "cell_type": "code",
   "execution_count": null,
   "id": "7cc4c815-6b4a-4443-a348-4b73ae434388",
   "metadata": {},
   "outputs": [],
   "source": [
    "merged_df = pd.merge(pop_df, url_df, on='emoji_name', how='outer')\n",
    "merged_df['count'] = merged_df['count'].fillna(-1).astype('int')\n",
    "merged_df"
   ]
  },
  {
   "cell_type": "code",
   "execution_count": null,
   "id": "51626a0b-84f0-4ba2-927c-8cb2b5bd17a2",
   "metadata": {},
   "outputs": [],
   "source": [
    "merged_df.to_csv('data/emoji-urls-and-popularity.csv', index=False)"
   ]
  },
  {
   "cell_type": "code",
   "execution_count": null,
   "id": "9fd0ab5e-7a80-41ab-a022-5dfdfac2c01d",
   "metadata": {},
   "outputs": [],
   "source": [
    "!head -n 50 data/emoji-urls-and-popularity.csv"
   ]
  },
  {
   "cell_type": "markdown",
   "id": "3a9b555f-c5bc-4d71-bc3f-97f88224b5fa",
   "metadata": {},
   "source": [
    "# Just custom emojis"
   ]
  },
  {
   "cell_type": "code",
   "execution_count": null,
   "id": "adf70126-8f20-490c-aa98-263f8f75cd76",
   "metadata": {},
   "outputs": [],
   "source": [
    "merged_df = pd.merge(pop_df, url_df, on='emoji_name', how='right')\n",
    "merged_df['count'] = merged_df['count'].fillna(-1).astype('int')\n",
    "merged_df"
   ]
  },
  {
   "cell_type": "code",
   "execution_count": null,
   "id": "7f397712-9f97-4f21-9025-8eb3fe998ec0",
   "metadata": {},
   "outputs": [],
   "source": [
    "merged_df.sort_values('count', ascending=False)"
   ]
  },
  {
   "cell_type": "code",
   "execution_count": null,
   "id": "7a444d23-544d-4fca-a383-c5efbff6140c",
   "metadata": {
    "tags": []
   },
   "outputs": [],
   "source": [
    "import json\n",
    "\n",
    "with open('data/just-custom-emojis-and-popularity.json', 'w') as f:\n",
    "    json.dump(merged_df.to_dict('records'), f)"
   ]
  }
 ],
 "metadata": {
  "kernelspec": {
   "display_name": "python3.11",
   "language": "python",
   "name": "python3.11"
  },
  "language_info": {
   "codemirror_mode": {
    "name": "ipython",
    "version": 3
   },
   "file_extension": ".py",
   "mimetype": "text/x-python",
   "name": "python",
   "nbconvert_exporter": "python",
   "pygments_lexer": "ipython3",
   "version": "3.11.2"
  }
 },
 "nbformat": 4,
 "nbformat_minor": 5
}

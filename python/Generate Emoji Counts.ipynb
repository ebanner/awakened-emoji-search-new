{
 "cells": [
  {
   "attachments": {},
   "cell_type": "markdown",
   "id": "bc894a43",
   "metadata": {},
   "source": [
    "# Emoji Counts"
   ]
  },
  {
   "cell_type": "code",
   "execution_count": null,
   "id": "b6b60e58-5c3f-4eb3-999d-101f6a6734e4",
   "metadata": {},
   "outputs": [],
   "source": [
    "from main import get_emoji_counts_for_all_channels\n",
    "\n",
    "emoji_counts = get_emoji_counts_for_all_channels()\n",
    "\n"
   ]
  },
  {
   "cell_type": "code",
   "execution_count": null,
   "id": "11e78b9f",
   "metadata": {},
   "outputs": [],
   "source": [
    "import pandas as pd\n",
    "\n",
    "s = pd.Series(emoji_counts).sort_values(ascending=False)\n",
    "df = s.to_frame().reset_index()\n",
    "df.columns = ['emoji_name', 'count']\n",
    "\n",
    "df"
   ]
  },
  {
   "attachments": {},
   "cell_type": "markdown",
   "id": "2d78bf03",
   "metadata": {},
   "source": [
    "# Add URLs"
   ]
  },
  {
   "cell_type": "code",
   "execution_count": null,
   "id": "78077d23",
   "metadata": {},
   "outputs": [],
   "source": [
    "from urls import add_urls\n",
    "\n",
    "df = add_urls(df, only_custom=True)\n",
    "df"
   ]
  },
  {
   "attachments": {},
   "cell_type": "markdown",
   "id": "8d37cea0",
   "metadata": {},
   "source": [
    "# Generate JSON"
   ]
  },
  {
   "cell_type": "code",
   "execution_count": null,
   "id": "955288c5",
   "metadata": {},
   "outputs": [],
   "source": [
    "import json\n",
    "\n",
    "with open('data/just-custom-emojis-and-popularity.json', 'w') as f:\n",
    "    json.dump(df.to_dict('records'), f, indent=4)\n",
    "\n",
    "!head -n 20 data/just-custom-emojis-and-popularity.json"
   ]
  },
  {
   "cell_type": "code",
   "execution_count": null,
   "id": "1881dc06",
   "metadata": {},
   "outputs": [],
   "source": [
    "!cp data/just-custom-emojis-and-popularity.json ../react/src"
   ]
  }
 ],
 "metadata": {
  "kernelspec": {
   "display_name": "Python 3",
   "language": "python",
   "name": "python3"
  },
  "language_info": {
   "codemirror_mode": {
    "name": "ipython",
    "version": 3
   },
   "file_extension": ".py",
   "mimetype": "text/x-python",
   "name": "python",
   "nbconvert_exporter": "python",
   "pygments_lexer": "ipython3",
   "version": "3.11.2"
  }
 },
 "nbformat": 4,
 "nbformat_minor": 5
}

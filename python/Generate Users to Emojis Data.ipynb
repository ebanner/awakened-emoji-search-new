{
 "cells": [
  {
   "attachments": {},
   "cell_type": "markdown",
   "metadata": {},
   "source": [
    "# Get all messages"
   ]
  },
  {
   "cell_type": "code",
   "execution_count": null,
   "metadata": {},
   "outputs": [],
   "source": [
    "from main import get_channel_user_emoji_counts\n",
    "\n",
    "df = get_channel_user_emoji_counts()\n",
    "df"
   ]
  },
  {
   "attachments": {},
   "cell_type": "markdown",
   "metadata": {},
   "source": [
    "# Identify emoji type"
   ]
  },
  {
   "cell_type": "code",
   "execution_count": null,
   "metadata": {},
   "outputs": [],
   "source": [
    "import pandas as pd\n",
    "\n",
    "# Load in data/emojis-and-url.csv\n",
    "\n",
    "custom_emoji_df = pd.read_csv('data/emojis-and-url.csv')\n",
    "custom_emoji_df\n",
    "\n",
    "# Get all of the custom emojis into a set\n",
    "\n",
    "custom_emoji_set = set(custom_emoji_df['emoji_name'].values)\n",
    "custom_emoji_set\n",
    "\n",
    "# Create a new column emoji_type that is either 'custom' or 'official'\n",
    "\n",
    "df['emoji_type'] = df['emoji_name'].apply(lambda x: 'custom' if x in custom_emoji_set else 'official')\n",
    "\n",
    "# Rearrange columns to be channel, user, emoji_name, emoji_type, count\n",
    "\n",
    "df = df[['channel', 'user', 'emoji_name', 'emoji_type', 'count']]\n",
    "df"
   ]
  },
  {
   "cell_type": "code",
   "execution_count": null,
   "metadata": {},
   "outputs": [],
   "source": [
    "# Get row where emoji_name is trollface\n",
    "\n",
    "df[df['emoji_name'] == 'trollface']"
   ]
  },
  {
   "attachments": {},
   "cell_type": "markdown",
   "metadata": {},
   "source": [
    "## Resolve names"
   ]
  },
  {
   "cell_type": "code",
   "execution_count": null,
   "metadata": {},
   "outputs": [],
   "source": [
    "import pandas as pd\n",
    "\n",
    "# Read slack_ids_to_user_names.csv into a dataframe\n",
    "\n",
    "user_id_to_username_df = pd.read_csv('data/slack_ids_to_user_names.csv')\n",
    "\n",
    "# Convert the dataframe to a dictionary\n",
    "\n",
    "user_id_to_username = user_id_to_username_df.set_index('user_id').to_dict()['user_name']\n",
    "user_id_to_username\n",
    "\n",
    "# Resolve the user ids to usernames via user_id_to_username\n",
    "\n",
    "df['user'] = df.user.map(user_id_to_username)\n",
    "df"
   ]
  },
  {
   "attachments": {},
   "cell_type": "markdown",
   "metadata": {},
   "source": [
    "# Drop Users who are NaN"
   ]
  },
  {
   "cell_type": "code",
   "execution_count": null,
   "metadata": {},
   "outputs": [],
   "source": [
    "# Drop users who are NaN\n",
    "\n",
    "df = df.dropna(subset=['user']).reset_index(drop=True)\n",
    "\n",
    "df"
   ]
  },
  {
   "attachments": {},
   "cell_type": "markdown",
   "metadata": {},
   "source": [
    "# Eliminate all users for each emoji except the top user for each emoji"
   ]
  },
  {
   "cell_type": "code",
   "execution_count": null,
   "metadata": {},
   "outputs": [],
   "source": [
    "kings = {}\n",
    "for emoji, group in df.groupby('emoji_name'):\n",
    "    inner_group = group.groupby('user').sum().sort_values('count', ascending=False)\n",
    "    row = inner_group.iloc[0]\n",
    "    count = row['count']\n",
    "\n",
    "    # Get all rows with count == count\n",
    "    rows = inner_group[inner_group['count'] == count]\n",
    "\n",
    "    # Map kings[emoji] to a list of users with {'user': user, 'count': count}\n",
    "    emoji_type = group['emoji_type'].iloc[0]\n",
    "    top_users = [{**d, **{'emoji_type': emoji_type}} for d in rows.reset_index().to_dict(orient='records')]\n",
    "    kings[emoji] = top_users\n",
    "\n",
    "# Expand out kings into a bunch of (emoji, user, count) tuples\n",
    "\n",
    "kings_tuples = [(emoji, user['emoji_type'], user['user'], user['count']) for emoji, users in kings.items() for user in users]\n",
    "\n",
    "# Make kings into a dataframe with two columns: emoji_name and user\n",
    "\n",
    "kings_df = pd.DataFrame.from_dict(kings_tuples)\n",
    "kings_df.columns = ['emoji_name', 'emoji_type', 'user', 'count']\n",
    "kings_df\n"
   ]
  },
  {
   "attachments": {},
   "cell_type": "markdown",
   "metadata": {},
   "source": [
    "# Add URLs"
   ]
  },
  {
   "cell_type": "code",
   "execution_count": null,
   "metadata": {},
   "outputs": [],
   "source": [
    "from urls import add_urls\n",
    "\n",
    "kings_df = add_urls(kings_df)\n",
    "kings_df"
   ]
  },
  {
   "attachments": {},
   "cell_type": "markdown",
   "metadata": {},
   "source": [
    "# Add rendered emojis"
   ]
  },
  {
   "cell_type": "code",
   "execution_count": null,
   "metadata": {},
   "outputs": [],
   "source": [
    "# Read in data/short_name_to_emoji.json\n",
    "\n",
    "import json\n",
    "\n",
    "import numpy as np\n",
    "\n",
    "with open('data/short_name_to_emoji.json') as f:\n",
    "    short_name_to_emoji = json.load(f)\n",
    "\n",
    "# Map emoji_name to rendered_emoji via short_name_to_emoji and use emoji_name if it doesn't exist\n",
    "\n",
    "kings_df['emoji'] = kings_df['emoji_name'].apply(lambda x: short_name_to_emoji.get(x, np.nan))\n",
    "kings_df"
   ]
  },
  {
   "attachments": {},
   "cell_type": "markdown",
   "metadata": {},
   "source": [
    "# Make JSON"
   ]
  },
  {
   "cell_type": "code",
   "execution_count": null,
   "metadata": {},
   "outputs": [],
   "source": [
    "kings_df = kings_df.applymap(lambda x: None if pd.isna(x) else x)\n",
    "\n",
    "# Make kings_df a dict of user to {\"emojis\": [{\"name\": \"emoji_name\", \"url\": \"emoji_url\"}]}\n",
    "\n",
    "kings_dict = {}\n",
    "for user, group in kings_df.groupby('user'):\n",
    "    emojis = []\n",
    "    for row in group.itertuples():\n",
    "        emojis.append({\n",
    "            'name': row.emoji_name,\n",
    "            'type': row.emoji_type,\n",
    "            'url': row.emoji_url,\n",
    "            'emoji': row.emoji,\n",
    "            'count': row.count\n",
    "        })\n",
    "    kings_dict[user] = emojis\n",
    "\n",
    "# Sort kings_dict by count\n",
    "\n",
    "for user, emojis in kings_dict.items():\n",
    "    emojis.sort(key=lambda x: x['count'], reverse=True)\n",
    "\n",
    "kings_dict"
   ]
  },
  {
   "cell_type": "code",
   "execution_count": null,
   "metadata": {},
   "outputs": [],
   "source": [
    "# Dump kings_dict to kings.json\n",
    "\n",
    "import json\n",
    "\n",
    "with open('data/kings.json', 'w') as f:\n",
    "    json.dump(kings_dict, f, indent=2, default=str)\n",
    "\n",
    "!head -n 50 data/kings.json"
   ]
  },
  {
   "cell_type": "code",
   "execution_count": null,
   "metadata": {},
   "outputs": [],
   "source": [
    "!cp data/kings.json ../react/src/pages/UsersPage"
   ]
  }
 ],
 "metadata": {
  "kernelspec": {
   "display_name": "Python 3",
   "language": "python",
   "name": "python3"
  },
  "language_info": {
   "codemirror_mode": {
    "name": "ipython",
    "version": 3
   },
   "file_extension": ".py",
   "mimetype": "text/x-python",
   "name": "python",
   "nbconvert_exporter": "python",
   "pygments_lexer": "ipython3",
   "version": "3.11.2"
  },
  "orig_nbformat": 4
 },
 "nbformat": 4,
 "nbformat_minor": 2
}

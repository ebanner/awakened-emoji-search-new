{
 "cells": [
  {
   "attachments": {},
   "cell_type": "markdown",
   "id": "b7b17ace",
   "metadata": {},
   "source": [
    "# Get `(channel, user, emoji)` counts"
   ]
  },
  {
   "attachments": {},
   "cell_type": "markdown",
   "id": "bc894a43",
   "metadata": {},
   "source": [
    "### Get `(channel, user, emoji)` counts for messages"
   ]
  },
  {
   "cell_type": "code",
   "execution_count": null,
   "id": "b6b60e58-5c3f-4eb3-999d-101f6a6734e4",
   "metadata": {},
   "outputs": [],
   "source": [
    "from main import get_channels, get_emoji_files, get_messages, get_emojis_from_message\n",
    "from tqdm import tqdm\n",
    "\n",
    "# Get all channels\n",
    "all_channels = get_channels()\n",
    "\n",
    "# Compute (user, emoji) counts for each channel\n",
    "message_user_emoji_counts = {}\n",
    "for channel in tqdm(all_channels, desc='Channels', unit='channel'):\n",
    "    for emoji_file in get_emoji_files(channel):\n",
    "        messages = get_messages(emoji_file)\n",
    "        for message in messages:\n",
    "            user = message['user']\n",
    "            emojis = get_emojis_from_message(message)\n",
    "            for emoji in emojis:\n",
    "                key = (channel, user, emoji)\n",
    "                if key not in message_user_emoji_counts:\n",
    "                    message_user_emoji_counts[key] = 1\n",
    "                else:\n",
    "                    message_user_emoji_counts[key] += 1\n",
    "\n",
    "message_user_emoji_counts"
   ]
  },
  {
   "attachments": {},
   "cell_type": "markdown",
   "id": "d693957e",
   "metadata": {},
   "source": [
    "### Get `(channel, user, emoji)` counts for reactions"
   ]
  },
  {
   "cell_type": "code",
   "execution_count": null,
   "id": "aeb9852f",
   "metadata": {},
   "outputs": [],
   "source": [
    "from main import get_reactions\n",
    "\n",
    "# Get all reactions from all channels\n",
    "channel_to_reactions = {}\n",
    "all_channels = get_channels()\n",
    "for channel in tqdm(all_channels, desc='Channels', unit='channel'):\n",
    "    emoji_files = get_emoji_files(channel)\n",
    "    for emoji_file in emoji_files:\n",
    "        messages = get_messages(emoji_file)\n",
    "        for message in messages:\n",
    "            reactions = get_reactions(message)\n",
    "            # Add reactions to channel_to_reactions\n",
    "            if channel not in channel_to_reactions:\n",
    "                channel_to_reactions[channel] = reactions\n",
    "            else:\n",
    "                channel_to_reactions[channel].extend(reactions)\n",
    "\n",
    "# Create (channel, user, emoji) counts from channel_to_reactions\n",
    "reactions_user_emoji_counts = {}\n",
    "for channel, reactions in channel_to_reactions.items():\n",
    "    for reaction in reactions:\n",
    "        for user in reaction['users']:\n",
    "            emoji = reaction['name']\n",
    "            key = (channel, user, emoji)\n",
    "            if key not in reactions_user_emoji_counts:\n",
    "                reactions_user_emoji_counts[key] = 1\n",
    "            else:\n",
    "                reactions_user_emoji_counts[key] += 1\n",
    "\n",
    "reactions_user_emoji_counts"
   ]
  },
  {
   "attachments": {},
   "cell_type": "markdown",
   "id": "42a8fc8a",
   "metadata": {},
   "source": [
    "### Combine the counts from `message_user_emoji_counts` and `reactions_user_emoji_counts` together"
   ]
  },
  {
   "cell_type": "code",
   "execution_count": null,
   "id": "90b51bbd",
   "metadata": {},
   "outputs": [],
   "source": [
    "all_user_emoji_counts = {}\n",
    "for key, count in message_user_emoji_counts.items():\n",
    "    if key not in all_user_emoji_counts:\n",
    "        all_user_emoji_counts[key] = count\n",
    "    else:\n",
    "        all_user_emoji_counts[key] += count\n",
    "        \n",
    "for key, count in reactions_user_emoji_counts.items():\n",
    "    if key not in all_user_emoji_counts:\n",
    "        all_user_emoji_counts[key] = count\n",
    "    else:\n",
    "        all_user_emoji_counts[key] += count\n",
    "\n",
    "all_user_emoji_counts"
   ]
  },
  {
   "cell_type": "code",
   "execution_count": null,
   "id": "4b87c520",
   "metadata": {},
   "outputs": [],
   "source": [
    "import pandas as pd\n",
    "\n",
    "# Make user_emjoi_counts into a list of tuples\n",
    "\n",
    "user_emoji_counts_list = []\n",
    "for key, count in all_user_emoji_counts.items():\n",
    "    user_emoji_counts_list.append((key[0], key[1], key[2], count))\n",
    "\n",
    "# Make a dataframe from the list of tuples\n",
    "df = pd.DataFrame(user_emoji_counts_list, columns=['channel', 'user', 'emoji_name', 'count'])\n",
    "df"
   ]
  },
  {
   "attachments": {},
   "cell_type": "markdown",
   "id": "2d78bf03",
   "metadata": {},
   "source": [
    "# Add URLs"
   ]
  },
  {
   "cell_type": "code",
   "execution_count": null,
   "id": "78077d23",
   "metadata": {},
   "outputs": [],
   "source": [
    "from urls import add_urls\n",
    "\n",
    "df = add_urls(df)\n",
    "df"
   ]
  },
  {
   "attachments": {},
   "cell_type": "markdown",
   "id": "900df5d4",
   "metadata": {},
   "source": [
    "### Resolve names"
   ]
  },
  {
   "cell_type": "code",
   "execution_count": null,
   "id": "aa064ebe",
   "metadata": {},
   "outputs": [],
   "source": [
    "from main import resolve_names\n",
    "\n",
    "df = resolve_names(df)\n",
    "\n",
    "# Drop users who are NaN\n",
    "\n",
    "df = df.dropna(subset=['user']).reset_index(drop=True)\n",
    "df"
   ]
  },
  {
   "attachments": {},
   "cell_type": "markdown",
   "id": "e407762f",
   "metadata": {},
   "source": [
    "# Emoji Type"
   ]
  },
  {
   "cell_type": "code",
   "execution_count": null,
   "id": "0dc51658",
   "metadata": {},
   "outputs": [],
   "source": [
    "import pandas as pd\n",
    "\n",
    "# Load in data/emojis-and-url.csv\n",
    "\n",
    "custom_emoji_df = pd.read_csv('data/emojis-and-url.csv')\n",
    "custom_emoji_df\n",
    "\n",
    "# Get all of the custom emojis into a set\n",
    "\n",
    "custom_emoji_set = set(custom_emoji_df['emoji_name'].values)\n",
    "custom_emoji_set\n",
    "\n",
    "# Create a new column emoji_type that is either 'custom' or 'official'\n",
    "\n",
    "df['emoji_type'] = df['emoji_name'].apply(lambda x: 'custom' if x in custom_emoji_set else 'official')\n",
    "\n",
    "# Rearrange columns to be channel, user, emoji_name, emoji_type, count\n",
    "\n",
    "df = df[['channel', 'user', 'emoji_name', 'emoji_type', 'emoji_url', 'count']]\n",
    "df\n",
    "\n",
    "# Loop over all unique emoji names\n",
    "\n",
    "# Generate emoji_name: emoji_url dict\n",
    "\n",
    "emoji_to_type = df[['emoji_name', 'emoji_type']].applymap(lambda x: None if pd.isna(x) else x).drop_duplicates().set_index('emoji_name').to_dict()['emoji_type']\n",
    "emoji_to_type"
   ]
  },
  {
   "attachments": {},
   "cell_type": "markdown",
   "id": "8d37cea0",
   "metadata": {},
   "source": [
    "# Generate JSON"
   ]
  },
  {
   "attachments": {},
   "cell_type": "markdown",
   "id": "36977dcd",
   "metadata": {},
   "source": [
    "### Get channel counts"
   ]
  },
  {
   "cell_type": "code",
   "execution_count": null,
   "id": "955288c5",
   "metadata": {},
   "outputs": [],
   "source": [
    "# Group by emoji_name and channel and sum up the count column\n",
    "\n",
    "emoji_channel_counts = df.groupby(['emoji_name', 'channel'])['count'].sum().reset_index()\n",
    "\n",
    "# Generate a JSON blob with the emoji_name as the key and a list of {\"channel_name\": channel, \"count\": count} as the value\n",
    "\n",
    "emoji_to_channel_counts_json = emoji_channel_counts\\\n",
    "  .rename(columns={'channel': 'name'})\\\n",
    "  .groupby('emoji_name').apply(lambda x: x[['name', 'count']].to_dict(orient='records')).to_dict()\n",
    "\n",
    "# Sort emoji_to_channel_counts_json by count\n",
    "\n",
    "for emoji_name, channel_counts in emoji_to_channel_counts_json.items():\n",
    "    emoji_to_channel_counts_json[emoji_name] = sorted(channel_counts, key=lambda x: x['count'], reverse=True)\n",
    "\n",
    "emoji_to_channel_counts_json"
   ]
  },
  {
   "attachments": {},
   "cell_type": "markdown",
   "id": "13713c49",
   "metadata": {},
   "source": [
    "### Get user counts"
   ]
  },
  {
   "cell_type": "code",
   "execution_count": null,
   "id": "a3222e5e",
   "metadata": {},
   "outputs": [],
   "source": [
    "# Group by emoji_name and user and sum up the count column\n",
    "\n",
    "emoji_user_counts = df.groupby(['emoji_name', 'user'])['count'].sum().reset_index()\n",
    "\n",
    "# Generate a JSON blob with the emoji_name as the key and a list of {\"user_name\": user, \"count\": count} as the value\n",
    "\n",
    "emoji_to_user_counts_json = emoji_user_counts\\\n",
    "    .rename(columns={'user': 'name'})\\\n",
    "    .groupby('emoji_name').apply(lambda x: x[['name', 'count']].to_dict(orient='records')).to_dict()\n",
    "\n",
    "# Sort emoji_to_user_counts_json by count\n",
    "\n",
    "for emoji_name, user_counts in emoji_to_user_counts_json.items():\n",
    "    emoji_to_user_counts_json[emoji_name] = sorted(user_counts, key=lambda x: x['count'], reverse=True)\n",
    "\n",
    "emoji_to_user_counts_json"
   ]
  },
  {
   "attachments": {},
   "cell_type": "markdown",
   "id": "441950d2",
   "metadata": {},
   "source": [
    "### Generate emoji_name: emoji_url dict"
   ]
  },
  {
   "cell_type": "code",
   "execution_count": null,
   "id": "06a23c42",
   "metadata": {},
   "outputs": [],
   "source": [
    "# Generate emoji_name: emoji_url dict\n",
    "\n",
    "emoji_to_url = df[['emoji_name', 'emoji_url']].applymap(lambda x: None if pd.isna(x) else x).drop_duplicates().set_index('emoji_name').to_dict()['emoji_url']\n",
    "emoji_to_url"
   ]
  },
  {
   "cell_type": "code",
   "execution_count": null,
   "id": "16ec9f31",
   "metadata": {},
   "outputs": [],
   "source": [
    "# Read in data/short_name_to_emoji.json\n",
    "\n",
    "import json\n",
    "\n",
    "with open('data/short_name_to_emoji.json') as f:\n",
    "    short_name_to_emoji = json.load(f)\n",
    "\n",
    "short_name_to_emoji"
   ]
  },
  {
   "cell_type": "code",
   "execution_count": null,
   "id": "fc59c6e3",
   "metadata": {},
   "outputs": [],
   "source": [
    "# Combine emoji_to_channel_counts_json and emoji_to_user_counts_json into a single JSON blob with keys \"channels\" and \"users\"\n",
    "\n",
    "# Convert df to a dict of\n",
    "#\n",
    "# {\n",
    "#   emoji_name1: {\n",
    "#     \"channels\": [\n",
    "#       {\"name\": channel1, \"count\": count1},\n",
    "#       ...\n",
    "#     ]\n",
    "#     \"users\": [\n",
    "#       {\"name\": user1, \"count\": count1},\n",
    "#       ...\n",
    "#     ],\n",
    "#     \"url\": url,\n",
    "#   },\n",
    "#   ...\n",
    "# }\n",
    "\n",
    "df = df.applymap(lambda x: None if pd.isna(x) else x)\n",
    "\n",
    "emoji_to_channel_and_user_counts_json = {}\n",
    "for emoji_name in df['emoji_name'].unique():\n",
    "    emoji_to_channel_and_user_counts_json[emoji_name] = {\n",
    "        'channels': emoji_to_channel_counts_json.get(emoji_name, []),\n",
    "        'users': emoji_to_user_counts_json.get(emoji_name, []),\n",
    "        'url': emoji_to_url[emoji_name],\n",
    "        'type': emoji_to_type[emoji_name],\n",
    "        'emoji': short_name_to_emoji.get(emoji_name, '?'),\n",
    "    }\n",
    "\n",
    "emoji_to_channel_and_user_counts_json"
   ]
  },
  {
   "cell_type": "code",
   "execution_count": null,
   "id": "345327c5",
   "metadata": {},
   "outputs": [],
   "source": [
    "import json\n",
    "\n",
    "# Dump the JSON blob to data/emojis-to-channels-and-users.json and properly indent it\n",
    "\n",
    "fname = 'data/emojis-to-channels-and-users.json'\n",
    "\n",
    "with open(fname, 'w') as f:\n",
    "    json.dump(emoji_to_channel_and_user_counts_json, f, indent=2)\n",
    "\n",
    "!head -n 50 $fname"
   ]
  },
  {
   "cell_type": "code",
   "execution_count": null,
   "id": "8c215a8a",
   "metadata": {},
   "outputs": [],
   "source": [
    "!cp data/emojis-to-channels-and-users.json ../react/src/pages/EmojiPage"
   ]
  }
 ],
 "metadata": {
  "kernelspec": {
   "display_name": "Python 3",
   "language": "python",
   "name": "python3"
  },
  "language_info": {
   "codemirror_mode": {
    "name": "ipython",
    "version": 3
   },
   "file_extension": ".py",
   "mimetype": "text/x-python",
   "name": "python",
   "nbconvert_exporter": "python",
   "pygments_lexer": "ipython3",
   "version": "3.11.2"
  }
 },
 "nbformat": 4,
 "nbformat_minor": 5
}

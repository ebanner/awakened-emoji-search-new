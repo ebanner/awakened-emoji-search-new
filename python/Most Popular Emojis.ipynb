{
 "cells": [
  {
   "cell_type": "code",
   "execution_count": null,
   "id": "5d050890-3374-41ac-98a6-1914db7a5440",
   "metadata": {},
   "outputs": [],
   "source": [
    "import glob\n",
    "import json\n",
    "import pandas as pd\n",
    "import re\n",
    "\n",
    "def get_counts(emoji_list):\n",
    "    d = {}\n",
    "    for emoji in emoji_list:\n",
    "        if emoji in d:\n",
    "            d[emoji] += 1\n",
    "        else:\n",
    "            d[emoji] = 1\n",
    "    return d\n",
    "\n",
    "def get_emoji_files(channel):\n",
    "    dir_path = f'awakened_zip/{channel}'\n",
    "    files = glob.glob(f\"{dir_path}/*.json\")\n",
    "    return files\n",
    "\n",
    "def get_reactions(messages):\n",
    "    reactions = []\n",
    "    for message in messages:\n",
    "        reactions.extend(message.get('reactions', []))\n",
    "    return reactions\n",
    "\n",
    "def get_emojis_from_messages(messages):\n",
    "    all_emojis = []\n",
    "    for message in messages:\n",
    "        emojis = re.findall(\n",
    "            r':[a-z0-9_-]+:',\n",
    "            message['text']\n",
    "        )\n",
    "        all_emojis.extend(emojis)\n",
    "    return all_emojis\n",
    "\n",
    "def get_emojis_from_reactions(reactions):\n",
    "    emojis = []\n",
    "    for reaction in reactions:\n",
    "        emojis.append(reaction['name'])\n",
    "    return emojis\n",
    "\n",
    "def get_messages(emoji_file):\n",
    "    messages = json.load(open(emoji_file))\n",
    "\n",
    "    # Filter out messages which don't have a user field\n",
    "    messages = [message for message in messages if 'user' in message]\n",
    "\n",
    "    return messages\n",
    "\n",
    "def get_emojis(messages):\n",
    "    reactions = get_reactions(messages)\n",
    "\n",
    "    message_emojis = get_emojis_from_messages(messages)\n",
    "    reaction_emojis = get_emojis_from_reactions(reactions)\n",
    "\n",
    "    return message_emojis + reaction_emojis\n",
    "\n",
    "def get_emoji_counts(channel, head=-1):\n",
    "    emoji_files = get_emoji_files(channel)\n",
    "    emoji_list = []\n",
    "    for emoji_file in emoji_files[:head]:\n",
    "        messages = get_messages(emoji_file)\n",
    "        emojis = get_emojis(messages)\n",
    "        emoji_list.extend(emojis)\n",
    "    \n",
    "    emoji_counts = get_counts(emoji_list)\n",
    "    return emoji_counts"
   ]
  },
  {
   "cell_type": "markdown",
   "id": "3c977a91-70e1-4b4d-9af0-48622e6140db",
   "metadata": {},
   "source": [
    "# Time\n",
    "\n",
    "1829 total\n",
    "\n",
    "- 50 -> total: 436 ms\n",
    "- 1829 -> 15s"
   ]
  },
  {
   "attachments": {},
   "cell_type": "markdown",
   "id": "0fdd50ed",
   "metadata": {},
   "source": [
    "# Get All Emojis"
   ]
  },
  {
   "cell_type": "code",
   "execution_count": null,
   "id": "4a39ee0e-91be-4049-9887-02d43fb1e68f",
   "metadata": {
    "tags": []
   },
   "outputs": [],
   "source": [
    "emoji_counts = get_emoji_counts('chopping-wood')"
   ]
  },
  {
   "attachments": {},
   "cell_type": "markdown",
   "id": "14c619dd",
   "metadata": {},
   "source": [
    "# Get Only My Emojis"
   ]
  },
  {
   "cell_type": "code",
   "execution_count": null,
   "id": "f812e97b",
   "metadata": {},
   "outputs": [],
   "source": [
    "emoji_files = get_emoji_files('chopping-wood')\n",
    "\n",
    "emoji_list = []\n",
    "for emoji_file in emoji_files:\n",
    "    # Get the messages from the emoji file\n",
    "    all_messages = get_messages(emoji_file)\n",
    "\n",
    "    # Get reactions from messages\n",
    "    all_reactions = get_reactions(all_messages)\n",
    "\n",
    "    # Filter down the messages to only those with user U02780B5563\n",
    "    my_messages = [message for message in all_messages if message['user'] == 'U02780B5563']\n",
    "\n",
    "    # Find all reactions that has user U02780B5563\n",
    "    my_reactions = [reaction for reaction in all_reactions if 'U02780B5563' in reaction['users']]\n",
    "\n",
    "    # Get emojis from messages\n",
    "    message_emojis = get_emojis_from_messages(all_messages)\n",
    "\n",
    "    # Get emojis from reactions\n",
    "    reaction_emojis = get_emojis_from_reactions(my_reactions)\n",
    "\n",
    "    # Combine the two lists of emojis\n",
    "    emojis = message_emojis + reaction_emojis\n",
    "\n",
    "    # Extend the list of emojis\n",
    "    emoji_list.extend(emojis)\n",
    "\n",
    "\n",
    "# Get the counts of each emoji\n",
    "emoji_counts = get_counts(emojis)\n",
    "\n",
    "emoji_counts"
   ]
  },
  {
   "attachments": {},
   "cell_type": "markdown",
   "id": "44232218",
   "metadata": {},
   "source": [
    "# Emoji popularity over all channels"
   ]
  },
  {
   "cell_type": "code",
   "execution_count": null,
   "id": "4bd2ca7e",
   "metadata": {},
   "outputs": [],
   "source": [
    "dirs = !cd awakened_zip && ls --color=none -d */\n",
    "all_channels = [d.rstrip('/') for d in dirs]\n",
    "\n",
    "# Get the counts for each channel\n",
    "all_emoji_counts = {}\n",
    "for channel in all_channels:\n",
    "    emoji_counts = get_emoji_counts(channel)\n",
    "    all_emoji_counts[channel] = emoji_counts\n",
    "\n",
    "# Sum up the counts for each emoji across all channels\n",
    "total_emoji_counts = {}\n",
    "for channel, emoji_counts in all_emoji_counts.items():\n",
    "    for emoji, count in emoji_counts.items():\n",
    "        if emoji in total_emoji_counts:\n",
    "            total_emoji_counts[emoji] += count\n",
    "        else:\n",
    "            total_emoji_counts[emoji] = count\n",
    "\n",
    "# Save total emoji counts to emoji_counts\n",
    "emoji_counts = total_emoji_counts"
   ]
  },
  {
   "cell_type": "code",
   "execution_count": null,
   "id": "c727b1b8-be26-4591-9606-c13acc703efa",
   "metadata": {},
   "outputs": [],
   "source": [
    "import pandas as pd\n",
    "\n",
    "s = pd.Series(emoji_counts).sort_values(ascending=False)\n",
    "df = s.to_frame().reset_index()\n",
    "df.columns = ['emoji_name', 'count']\n",
    "\n",
    "df"
   ]
  },
  {
   "cell_type": "code",
   "execution_count": null,
   "id": "40a99c75-47f5-47ef-b390-6fc22e0b3c47",
   "metadata": {},
   "outputs": [],
   "source": [
    "df.to_csv('data/emoji-names-and-count.csv', index=False)"
   ]
  },
  {
   "cell_type": "code",
   "execution_count": null,
   "id": "4a42231f-666e-475c-a0ca-5702e4113f75",
   "metadata": {
    "tags": []
   },
   "outputs": [],
   "source": [
    "!head data/emoji-names-and-count.csv"
   ]
  }
 ],
 "metadata": {
  "kernelspec": {
   "display_name": "Python 3",
   "language": "python",
   "name": "python3"
  },
  "language_info": {
   "codemirror_mode": {
    "name": "ipython",
    "version": 3
   },
   "file_extension": ".py",
   "mimetype": "text/x-python",
   "name": "python",
   "nbconvert_exporter": "python",
   "pygments_lexer": "ipython3",
   "version": "3.11.2"
  }
 },
 "nbformat": 4,
 "nbformat_minor": 5
}

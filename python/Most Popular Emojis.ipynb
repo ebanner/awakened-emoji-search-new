{
 "cells": [
  {
   "cell_type": "code",
   "execution_count": null,
   "id": "5d050890-3374-41ac-98a6-1914db7a5440",
   "metadata": {},
   "outputs": [],
   "source": [
    "import glob\n",
    "import json\n",
    "import pandas as pd\n",
    "import re\n",
    "\n",
    "def get_counts(emoji_list):\n",
    "    d = {}\n",
    "    for emoji in emoji_list:\n",
    "        if emoji in d:\n",
    "            d[emoji] += 1\n",
    "        else:\n",
    "            d[emoji] = 1\n",
    "    return d\n",
    "\n",
    "def get_emoji_files(channel):\n",
    "    dir_path = f'awakened_zip/{channel}'\n",
    "    files = glob.glob(f\"{dir_path}/*.json\")\n",
    "    return files\n",
    "\n",
    "def get_emojis(emoji_file):\n",
    "    j = json.load(open(emoji_file))\n",
    "\n",
    "    messages = []\n",
    "    for message in j:\n",
    "        text = message['text']\n",
    "        if 'reactions' in message:\n",
    "            reactions = []\n",
    "            for reaction in message['reactions']:\n",
    "                reactions.append(f\":{reaction['name']}:\")\n",
    "        else:\n",
    "            reactions = []\n",
    "\n",
    "        msg = {\n",
    "            'text': text,\n",
    "            'reactions': reactions,\n",
    "        }\n",
    "        messages.append(msg)\n",
    "\n",
    "    df = pd.DataFrame(messages)\n",
    "\n",
    "    def extract_emojis(text):\n",
    "        return re.findall(\n",
    "            r':[a-z0-9_-]+:',\n",
    "            text\n",
    "        )\n",
    "\n",
    "    emojis = [emoji for emoji_list in df.text.apply(extract_emojis) for emoji in emoji_list]\n",
    "    for reactions in df.reactions:\n",
    "        emojis.extend(reactions)\n",
    "\n",
    "    return emojis\n",
    "\n",
    "def get_emoji_counts(channel, head=-1):\n",
    "    emoji_files = get_emoji_files(channel)\n",
    "    emoji_list = []\n",
    "    for emoji_file in emoji_files[:head]:\n",
    "        emojis = get_emojis(emoji_file)\n",
    "        emoji_list.extend(emojis)\n",
    "    \n",
    "    emoji_counts = get_counts(emoji_list)\n",
    "    return emoji_counts"
   ]
  },
  {
   "cell_type": "markdown",
   "id": "3c977a91-70e1-4b4d-9af0-48622e6140db",
   "metadata": {},
   "source": [
    "# Time\n",
    "\n",
    "1829 total\n",
    "\n",
    "- 50 -> total: 436 ms\n",
    "- 1829 -> 15s"
   ]
  },
  {
   "cell_type": "code",
   "execution_count": null,
   "id": "4a39ee0e-91be-4049-9887-02d43fb1e68f",
   "metadata": {
    "tags": []
   },
   "outputs": [],
   "source": [
    "counts = get_emoji_counts('chopping-wood')"
   ]
  },
  {
   "cell_type": "code",
   "execution_count": null,
   "id": "c727b1b8-be26-4591-9606-c13acc703efa",
   "metadata": {},
   "outputs": [],
   "source": [
    "import pandas as pd\n",
    "\n",
    "s = pd.Series(counts).sort_values(ascending=False)\n",
    "df = s.to_frame().reset_index()\n",
    "df.columns = ['emoji_name', 'count']\n",
    "\n",
    "df.head()"
   ]
  },
  {
   "cell_type": "code",
   "execution_count": null,
   "id": "e415b1ee-8e3a-473d-bb23-788befb4b03f",
   "metadata": {},
   "outputs": [],
   "source": [
    "for i, row in df.sort_values('count', ascending=False).iterrows():\n",
    "    print(row)"
   ]
  },
  {
   "cell_type": "code",
   "execution_count": null,
   "id": "40a99c75-47f5-47ef-b390-6fc22e0b3c47",
   "metadata": {},
   "outputs": [],
   "source": [
    "df.to_csv('data/emoji-names-and-count.csv', index=False)"
   ]
  },
  {
   "cell_type": "code",
   "execution_count": null,
   "id": "4a42231f-666e-475c-a0ca-5702e4113f75",
   "metadata": {
    "tags": []
   },
   "outputs": [],
   "source": [
    "!head data/emoji-names-and-count.csv"
   ]
  }
 ],
 "metadata": {
  "kernelspec": {
   "display_name": "3.7.2",
   "language": "python",
   "name": "dashboards"
  },
  "language_info": {
   "codemirror_mode": {
    "name": "ipython",
    "version": 3
   },
   "file_extension": ".py",
   "mimetype": "text/x-python",
   "name": "python",
   "nbconvert_exporter": "python",
   "pygments_lexer": "ipython3",
   "version": "3.7.2"
  }
 },
 "nbformat": 4,
 "nbformat_minor": 5
}
